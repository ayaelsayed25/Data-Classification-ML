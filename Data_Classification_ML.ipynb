{
  "nbformat": 4,
  "nbformat_minor": 0,
  "metadata": {
    "colab": {
      "name": "Data Classification ML.ipynb",
      "provenance": [],
      "collapsed_sections": [],
      "include_colab_link": true
    },
    "kernelspec": {
      "name": "python3",
      "display_name": "Python 3"
    },
    "language_info": {
      "name": "python"
    }
  },
  "cells": [
    {
      "cell_type": "markdown",
      "metadata": {
        "id": "view-in-github",
        "colab_type": "text"
      },
      "source": [
        "<a href=\"https://colab.research.google.com/github/ayaelsayed25/Data-Classification-ML/blob/main/Data_Classification_ML.ipynb\" target=\"_parent\"><img src=\"https://colab.research.google.com/assets/colab-badge.svg\" alt=\"Open In Colab\"/></a>"
      ]
    },
    {
      "cell_type": "markdown",
      "source": [
        "# **Data Balancing**"
      ],
      "metadata": {
        "id": "RWNFj-zYa9dI"
      }
    },
    {
      "cell_type": "markdown",
      "source": [
        "Read Data"
      ],
      "metadata": {
        "id": "X8IIq16rleY4"
      }
    },
    {
      "cell_type": "code",
      "source": [
        "from google.colab import files\n",
        "import io\n",
        "uploaded = files.upload()"
      ],
      "metadata": {
        "colab": {
          "resources": {
            "http://localhost:8080/nbextensions/google.colab/files.js": {
              "data": "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",
              "ok": true,
              "headers": [
                [
                  "content-type",
                  "application/javascript"
                ]
              ],
              "status": 200,
              "status_text": ""
            }
          },
          "base_uri": "https://localhost:8080/",
          "height": 73
        },
        "id": "RsTL46IaO1Ex",
        "outputId": "67383653-90f2-4067-f047-a356451d9cf3"
      },
      "execution_count": null,
      "outputs": [
        {
          "output_type": "display_data",
          "data": {
            "text/html": [
              "\n",
              "     <input type=\"file\" id=\"files-c0edba6b-b9fe-4a43-a9b2-fa713e70db1a\" name=\"files[]\" multiple disabled\n",
              "        style=\"border:none\" />\n",
              "     <output id=\"result-c0edba6b-b9fe-4a43-a9b2-fa713e70db1a\">\n",
              "      Upload widget is only available when the cell has been executed in the\n",
              "      current browser session. Please rerun this cell to enable.\n",
              "      </output>\n",
              "      <script src=\"/nbextensions/google.colab/files.js\"></script> "
            ],
            "text/plain": [
              "<IPython.core.display.HTML object>"
            ]
          },
          "metadata": {}
        },
        {
          "output_type": "stream",
          "name": "stdout",
          "text": [
            "Saving magic04.data to magic04.data\n"
          ]
        }
      ]
    },
    {
      "cell_type": "code",
      "execution_count": null,
      "metadata": {
        "id": "-ZSkHFca7VIu"
      },
      "outputs": [],
      "source": [
        "import pandas as pd\n",
        "from collections import Counter\n",
        "df = pd.read_csv(io.StringIO(uploaded['magic04.data'].decode('utf-8')))"
      ]
    },
    {
      "cell_type": "markdown",
      "source": [
        "Check if there is null values and add features labels"
      ],
      "metadata": {
        "id": "-A4aoZ1qljPL"
      }
    },
    {
      "cell_type": "code",
      "source": [
        "df.columns = ['Length', 'Width', 'Size', 'Conc', 'Conc1', 'Asym', 'M3Long', 'M3Trans', 'Alpha', 'Dist', 'class']\n",
        "df = df.fillna(df.mean())"
      ],
      "metadata": {
        "id": "iFBIekZOlrS_"
      },
      "execution_count": null,
      "outputs": []
    },
    {
      "cell_type": "markdown",
      "source": [
        "Replace output labels from h,g to 0,1"
      ],
      "metadata": {
        "id": "ZswfzE6AmUd_"
      }
    },
    {
      "cell_type": "code",
      "source": [
        "df = df.replace({'class':{'g': 1, 'h': 0}})"
      ],
      "metadata": {
        "id": "lngiNzL4LDai"
      },
      "execution_count": null,
      "outputs": []
    },
    {
      "cell_type": "markdown",
      "source": [
        "Function to separate data into dataframes with and without output column"
      ],
      "metadata": {
        "id": "0SLoo6vFmdaP"
      }
    },
    {
      "cell_type": "code",
      "source": [
        "def separate_data(df):\n",
        "  x = df\n",
        "  y = df['class']\n",
        "  x.drop('class',axis=1,inplace=True)\n",
        "  return x, y"
      ],
      "metadata": {
        "id": "ghOcor_SbnnM"
      },
      "execution_count": null,
      "outputs": []
    },
    {
      "cell_type": "code",
      "source": [
        "x, y = separate_data(df)"
      ],
      "metadata": {
        "id": "nByrJKVVk8td"
      },
      "execution_count": null,
      "outputs": []
    },
    {
      "cell_type": "markdown",
      "source": [
        "Balancing dataset with undersampling function "
      ],
      "metadata": {
        "id": "xJ-pCb2WmvAV"
      }
    },
    {
      "cell_type": "code",
      "source": [
        "from imblearn import under_sampling\n",
        "from imblearn.under_sampling import RandomUnderSampler \n",
        "rus = RandomUnderSampler(random_state=0)\n",
        "x_resampled, y_resampled = rus.fit_resample(x, y)"
      ],
      "metadata": {
        "id": "VH7kxubeIB2Z"
      },
      "execution_count": null,
      "outputs": []
    },
    {
      "cell_type": "code",
      "source": [
        "x_resampled['class'] = y_resampled\n",
        "df = x_resampled"
      ],
      "metadata": {
        "id": "eV5nOws3hlUE"
      },
      "execution_count": null,
      "outputs": []
    },
    {
      "cell_type": "code",
      "source": [
        "x, y = separate_data(df)"
      ],
      "metadata": {
        "id": "5Pei-_zRlFar"
      },
      "execution_count": null,
      "outputs": []
    },
    {
      "cell_type": "markdown",
      "source": [
        "# **Data Splitting**"
      ],
      "metadata": {
        "id": "R8KDtQQMl4cf"
      }
    },
    {
      "cell_type": "code",
      "source": [
        "from sklearn.model_selection import train_test_split\n",
        "x_train, x_test, y_train, y_test = train_test_split(x, y, test_size=0.3)"
      ],
      "metadata": {
        "id": "JoQ8XIaLdqSS"
      },
      "execution_count": null,
      "outputs": []
    },
    {
      "cell_type": "code",
      "source": [
        "print(len(x_train.columns))"
      ],
      "metadata": {
        "colab": {
          "base_uri": "https://localhost:8080/"
        },
        "id": "13_6WxCYnVa-",
        "outputId": "1089dd27-6a3e-4ab0-9c33-22491769d8da"
      },
      "execution_count": null,
      "outputs": [
        {
          "output_type": "stream",
          "name": "stdout",
          "text": [
            "10\n"
          ]
        }
      ]
    },
    {
      "cell_type": "markdown",
      "source": [
        "# **Classification**"
      ],
      "metadata": {
        "id": "iz7cpqMSnc_z"
      }
    },
    {
      "cell_type": "markdown",
      "source": [
        "**Function to evaluate the models**"
      ],
      "metadata": {
        "id": "0kCbjjmFrMmu"
      }
    },
    {
      "cell_type": "code",
      "source": [
        "def evaluation(predicted , y_test):\n",
        "    from sklearn.metrics import accuracy_score, f1_score\n",
        "    accuracy = accuracy_score(predicted , y_test)\n",
        "    f1 = f1_score(predicted , y_test , average='weighted')\n",
        "    print (\"Accuracy: \" ,accuracy)\n",
        "    print(\"F1_score: \",f1)\n",
        "\n",
        "    #calculating precision and reall\n",
        "\n",
        "    from sklearn.metrics import precision_score , recall_score\n",
        "    precision = precision_score(predicted , y_test )\n",
        "    recall = recall_score(predicted , y_test ) \n",
        "    print('Precision: ',precision)\n",
        "    print('Recall: ',recall)\n",
        "    \n",
        "    from sklearn.metrics import confusion_matrix\n",
        "    confusion = confusion_matrix(predicted,y_test)\n",
        "    print(\"Confusion Matrix:\")\n",
        "    print(confusion)"
      ],
      "metadata": {
        "id": "G9uAxSwprHOF"
      },
      "execution_count": null,
      "outputs": []
    },
    {
      "cell_type": "markdown",
      "source": [
        "# **Model Parameter Tuning**"
      ],
      "metadata": {
        "id": "59tuqSjDnjrY"
      }
    },
    {
      "cell_type": "code",
      "source": [
        "#function input is the training data , model , params to tunes  return the best model after tunning\n",
        "# Import 'make_scorer', and 'GridSearchCV'\n",
        "from sklearn.metrics import make_scorer\n",
        "from sklearn.model_selection import GridSearchCV\n",
        "from sklearn.model_selection import ShuffleSplit\n",
        "from sklearn.metrics import accuracy_score\n",
        "import matplotlib.pyplot as plt\n",
        "\n",
        "\n",
        "def fit_model(X, y , model , params):    \n",
        "    # Create cross-validation sets from the training data\n",
        "    cv_sets=ShuffleSplit(n_splits=10, random_state=42, test_size=0.3, train_size=None)\n",
        "  \n",
        "\n",
        "    #Transform 'performance_metric' into a scoring function using 'make_scorer' \n",
        "    scoring_fnc = make_scorer(accuracy_score)\n",
        "    #Create the grid search cv object --> GridSearchCV()\n",
        "    grid = GridSearchCV(estimator=model, param_grid= params, scoring=scoring_fnc,cv=cv_sets)\n",
        "    # Fit the grid search object to the data to compute the optimal model\n",
        "    grid = grid.fit(X, y)\n",
        "\n",
        "    scores = grid.cv_results_.get('mean_test_score')\n",
        "    for i in params :      \n",
        "        plt.scatter(x = params[i] ,y = scores)\n",
        "        plt.show()\n",
        "    # Return the optimal model after fitting the data\n",
        "    return grid.best_estimator_"
      ],
      "metadata": {
        "id": "6_DgfGwu4IHP"
      },
      "execution_count": null,
      "outputs": []
    },
    {
      "cell_type": "markdown",
      "source": [
        "**Decision Tree**"
      ],
      "metadata": {
        "id": "6TF_5hHpnug6"
      }
    },
    {
      "cell_type": "code",
      "source": [
        "from sklearn import tree\n",
        "tree_model = tree.DecisionTreeClassifier()\n",
        "tree_model.fit(x_train, y_train)\n",
        "#testing\n",
        "predicted = tree_model.predict(x_test)\n",
        "#evaluating\n",
        "evaluation(predicted ,y_test)"
      ],
      "metadata": {
        "id": "nisH_kMCLO2Z"
      },
      "execution_count": null,
      "outputs": []
    },
    {
      "cell_type": "markdown",
      "source": [
        "**AdaBoost**"
      ],
      "metadata": {
        "id": "aMFAYCNhn0lo"
      }
    },
    {
      "cell_type": "code",
      "source": [
        "#Ada Boost \n",
        "import numpy as np\n",
        "from sklearn.ensemble import AdaBoostClassifier\n",
        "model = AdaBoostClassifier()\n",
        "\n",
        "space = np.arange(100,350,50)\n",
        "\n",
        "#  Create a dictionary for the parameter 'n_estimators' with a range from 10 to 100\n",
        "params = {'n_estimators':space}\n",
        "\n",
        "#call gradient decent function to split the data into kfolds and tune the giving params\n",
        "best_model = fit_model(x_train,y_train, model ,params)\n",
        "print(\"the best n_estimators :\" , best_model.get_params()['n_estimators'])\n",
        "#Predict the response for test dataset\n",
        "predicted = best_model.predict(x_test)\n",
        "\n",
        "#evaluating\n",
        "evaluation(predicted ,y_test)\n",
        "\n"
      ],
      "metadata": {
        "id": "T-OEEmqD35IW",
        "colab": {
          "base_uri": "https://localhost:8080/",
          "height": 404
        },
        "outputId": "81b08702-39e2-4b24-9f74-e91160ddf66f"
      },
      "execution_count": null,
      "outputs": [
        {
          "output_type": "display_data",
          "data": {
            "image/png": "[encoded data removed]",
            "text/plain": [
              "<Figure size 432x288 with 1 Axes>"
            ]
          },
          "metadata": {
            "needs_background": "light"
          }
        },
        {
          "output_type": "stream",
          "name": "stdout",
          "text": [
            "the best n_estimators : 250\n",
            "Accuracy:  0.8293047595315226\n",
            "F1_score:  0.8293516135837121\n",
            "Precision:  0.8428571428571429\n",
            "Recall:  0.8237843042850265\n",
            "Confusion Matrix:\n",
            "[[1617  319]\n",
            " [ 366 1711]]\n"
          ]
        }
      ]
    },
    {
      "cell_type": "markdown",
      "source": [
        "**K-Nearest Neighbors**"
      ],
      "metadata": {
        "id": "glB3jnfun4NL"
      }
    },
    {
      "cell_type": "code",
      "source": [
        "from sklearn.neighbors import KNeighborsClassifier\n",
        "import numpy as np\n",
        "k=range(1,50)\n",
        "params = {'n_neighbors':k}\n",
        "model = KNeighborsClassifier()\n",
        "best_model = fit_model(x_train,y_train, model ,params)\n",
        "print(\"the best k param :\" , best_model.get_params()['n_neighbors'])\n",
        "\n",
        "#Predict the response for test dataset\n",
        "predicted = best_model.predict(x_test)\n",
        "\n",
        "#evaluating\n",
        "evaluation(predicted ,y_test)"
      ],
      "metadata": {
        "id": "SkOOu3POr48P",
        "colab": {
          "base_uri": "https://localhost:8080/",
          "height": 421
        },
        "outputId": "6806a7dd-1e75-4257-d25e-eb79bf8ed783"
      },
      "execution_count": null,
      "outputs": [
        {
          "output_type": "stream",
          "name": "stdout",
          "text": [
            "entering\n"
          ]
        },
        {
          "output_type": "display_data",
          "data": {
            "image/png": "[encoded data removed]",
            "text/plain": [
              "<Figure size 432x288 with 1 Axes>"
            ]
          },
          "metadata": {
            "needs_background": "light"
          }
        },
        {
          "output_type": "stream",
          "name": "stdout",
          "text": [
            "the best k param : 12\n",
            "Accuracy:  0.7744829304759532\n",
            "F1_score:  0.775111094634183\n",
            "Precision:  0.8271051320378675\n",
            "Recall:  0.7484220018034266\n",
            "Confusion Matrix:\n",
            "[[1448  347]\n",
            " [ 558 1660]]\n"
          ]
        }
      ]
    },
    {
      "cell_type": "markdown",
      "source": [
        "**Random Forests**"
      ],
      "metadata": {
        "id": "Xrwk8G8Wn9pb"
      }
    },
    {
      "cell_type": "code",
      "source": [
        "from sklearn.ensemble import RandomForestClassifier\n",
        "import numpy as np\n",
        "\n",
        "# n_est=[int(x) for x in np.linspace(10,80,10)]\n",
        "n_est=[int(x) for x in np.linspace(10,400,10)]\n",
        "# the best n_estimators : 360\n",
        "# Accuracy:  0.855968103663095\n",
        "# F1_score:  0.8560918413593849\n",
        "# Precision:  0.8816568047337278\n",
        "# Recall:  0.8410159924741298\n",
        "# Confusion Matrix:\n",
        "# [[1647  240]\n",
        "#  [ 338 1788]]\n",
        "\n",
        "params = {'n_estimators':n_est}\n",
        "\n",
        "model = RandomForestClassifier()\n",
        "best_model = fit_model(x_train,y_train, model ,params)\n",
        "print(\"the best n_estimators :\" , best_model.get_params()['n_estimators'])\n",
        "\n",
        "#Predict the response for test dataset\n",
        "predicted = best_model.predict(x_test)\n",
        "\n",
        "#evaluating\n",
        "evaluation(predicted ,y_test)"
      ],
      "metadata": {
        "id": "Ul4PMtYlt85z"
      },
      "execution_count": null,
      "outputs": []
    },
    {
      "cell_type": "markdown",
      "source": [
        "**Naıve Bayes**\n",
        "\n"
      ],
      "metadata": {
        "id": "c5ISiOpKoBhh"
      }
    },
    {
      "cell_type": "code",
      "source": [
        "#Naive bayes\n",
        "#training\n",
        "from sklearn.naive_bayes import GaussianNB\n",
        "model = GaussianNB()\n",
        "model.fit(x_train,y_train)\n",
        "\n",
        "#testing\n",
        "predicted = model.predict(x_test)\n",
        "\n",
        "#evaluating\n",
        "evaluation(predicted ,y_test)"
      ],
      "metadata": {
        "id": "iUNQikKR3zc0"
      },
      "execution_count": null,
      "outputs": []
    },
    {
      "cell_type": "markdown",
      "source": [
        "# **Bonus**"
      ],
      "metadata": {
        "id": "0OU8yaG6noey"
      }
    },
    {
      "cell_type": "markdown",
      "source": [
        "**Dataset Class**"
      ],
      "metadata": {
        "id": "Aa25yajn-joI"
      }
    },
    {
      "cell_type": "code",
      "source": [
        "dataframe = x\n",
        "print(dataframe.shape)\n",
        "dataframe['class'] = y"
      ],
      "metadata": {
        "id": "_B-MLvCsMmkI"
      },
      "execution_count": null,
      "outputs": []
    },
    {
      "cell_type": "code",
      "source": [
        "import torch\n",
        "import numpy as np\n",
        "class Dataset(torch.utils.data.Dataset):\n",
        "\n",
        "    def __init__(self, df):\n",
        "        self.labels = df['class'].values.tolist()\n",
        "        self.features = df.drop(columns=['class'], axis=1).values.tolist()\n",
        "\n",
        "    def classes(self):\n",
        "        return self.labels\n",
        "\n",
        "    def __len__(self):\n",
        "        return len(self.labels)\n",
        "\n",
        "    def get_batch_labels(self, idx):\n",
        "        return np.array(self.labels[idx])\n",
        "\n",
        "    def get_batch_features(self, idx):\n",
        "        return np.array(self.features[idx])\n",
        "\n",
        "    def __getitem__(self, idx):\n",
        "        batch_features = self.get_batch_features(idx)\n",
        "        batch_y = self.get_batch_labels(idx)\n",
        "\n",
        "        return batch_features, batch_y"
      ],
      "metadata": {
        "id": "FXtWeYJ580jv"
      },
      "execution_count": null,
      "outputs": []
    },
    {
      "cell_type": "markdown",
      "source": [
        "**Create Optuna session for hyperparameter tuning**"
      ],
      "metadata": {
        "id": "X17YmGlI-n9m"
      }
    },
    {
      "cell_type": "code",
      "source": [
        "!pip install optuna\n",
        "import optuna\n",
        "study = optuna.create_study(direction=\"maximize\", sampler=optuna.samplers.TPESampler())\n",
        "#maximize direction tends to increase the accuracy, F1 score, etc.\n",
        "#TPESampler : Bayesian hyperparameter optimization method"
      ],
      "metadata": {
        "id": "dPBDQ7ai-svI"
      },
      "execution_count": null,
      "outputs": []
    },
    {
      "cell_type": "markdown",
      "source": [
        "**Full Neural Network Model**"
      ],
      "metadata": {
        "id": "Ro8ierOJxx5C"
      }
    },
    {
      "cell_type": "code",
      "source": [
        "import torch.nn as nn\n",
        "import torch.optim as optim\n",
        "from sklearn.model_selection import train_test_split\n",
        "def build_model(params):\n",
        "    \n",
        "    in_features = 10\n",
        "    num_classes = 2 #g or h\n",
        "    return nn.Sequential(\n",
        "    \n",
        "        nn.Linear(in_features, params['n_unit_1']),\n",
        "        nn.LeakyReLU(),\n",
        "        nn.Linear(params['n_unit_1'], params['n_unit_2']),\n",
        "        nn.LeakyReLU(),\n",
        "        nn.Linear(params['n_unit_2'], num_classes),\n",
        "        nn.LeakyReLU()\n",
        "        \n",
        "    )"
      ],
      "metadata": {
        "id": "RrpnT11TGP1i"
      },
      "execution_count": null,
      "outputs": []
    },
    {
      "cell_type": "markdown",
      "source": [
        "**Define the number of epochs and batch size**"
      ],
      "metadata": {
        "id": "d2p3DBnByNsz"
      }
    },
    {
      "cell_type": "code",
      "source": [
        "EPOCHS = 700\n",
        "BATCh_SIZE = 635\n",
        "model = None"
      ],
      "metadata": {
        "id": "DHUfq8FsRA9T"
      },
      "execution_count": null,
      "outputs": []
    },
    {
      "cell_type": "markdown",
      "source": [
        "**Download the model**"
      ],
      "metadata": {
        "id": "5aN_k4qClVF0"
      }
    },
    {
      "cell_type": "code",
      "source": [
        "MODEL_PATH = 'model.pth'\n",
        "model = torch.load(MODEL_PATH, map_location=torch.device('cpu'))"
      ],
      "metadata": {
        "id": "5R29gMG8lZIv"
      },
      "execution_count": null,
      "outputs": []
    },
    {
      "cell_type": "markdown",
      "source": [
        "**Training and evaluation of the model**"
      ],
      "metadata": {
        "id": "x1f4KcPtylwz"
      }
    },
    {
      "cell_type": "code",
      "source": [
        "def train_and_evaluate(param):\n",
        "    global model\n",
        "    train_data, val_data = train_test_split(dataframe, test_size = 0.2, random_state = 42)\n",
        "    train, val = Dataset(train_data), Dataset(val_data)\n",
        "    train_dataloader = torch.utils.data.DataLoader(train, batch_size=BATCh_SIZE, shuffle=True)\n",
        "    val_dataloader = torch.utils.data.DataLoader(val, batch_size=BATCh_SIZE)\n",
        "\n",
        "    use_cuda = torch.cuda.is_available()\n",
        "    device = torch.device(\"cuda\" if use_cuda else \"cpu\")\n",
        "\n",
        "    criterion = nn.CrossEntropyLoss()\n",
        "    optimizer = getattr(optim, param['optimizer'])(model.parameters(), lr= param['learning_rate'])\n",
        "\n",
        "    if use_cuda:\n",
        "\n",
        "            model = model.cuda()\n",
        "            criterion = criterion.cuda()\n",
        "\n",
        "    for epoch_num in range(EPOCHS):\n",
        "\n",
        "            total_acc_train = 0\n",
        "            total_loss_train = 0\n",
        "\n",
        "            for train_input, train_label in train_dataloader:\n",
        "\n",
        "                train_label = train_label.to(device)\n",
        "                train_input = train_input.to(device)\n",
        "\n",
        "                output = model(train_input.float())\n",
        "                \n",
        "                batch_loss = criterion(output, train_label.long())\n",
        "                total_loss_train += batch_loss.item()\n",
        "                \n",
        "                acc = (output.argmax(dim=1) == train_label).sum().item()\n",
        "                total_acc_train += acc\n",
        "\n",
        "                model.zero_grad()\n",
        "                batch_loss.backward()\n",
        "                optimizer.step()\n",
        "            \n",
        "            total_acc_val = 0\n",
        "            total_loss_val = 0\n",
        "\n",
        "            with torch.no_grad():\n",
        "\n",
        "                for val_input, val_label in val_dataloader:\n",
        "\n",
        "                    val_label = val_label.to(device)\n",
        "                    val_input = val_input.to(device)\n",
        "\n",
        "                    output = model(val_input.float())\n",
        "\n",
        "                    batch_loss = criterion(output, val_label.long())\n",
        "                    total_loss_val += batch_loss.item()\n",
        "                    \n",
        "                    acc = (output.argmax(dim=1) == val_label).sum().item()\n",
        "                    total_acc_val += acc\n",
        "            \n",
        "            accuracy = total_acc_val/len(val_data)\n",
        "\n",
        "    return accuracy"
      ],
      "metadata": {
        "id": "jXyeC0guHIFI"
      },
      "execution_count": null,
      "outputs": []
    },
    {
      "cell_type": "markdown",
      "source": [
        "**Objective function for optuna session**: contains the parameters to be tunes, the neural network model, and the accuracy of the model which results from the training and evaluation"
      ],
      "metadata": {
        "id": "a3NrIfPbyqq0"
      }
    },
    {
      "cell_type": "code",
      "source": [
        "def objective(trial):\n",
        "    global model\n",
        "    #parameters we want to tune:\n",
        "    params = {\n",
        "              'learning_rate': trial.suggest_loguniform('learning_rate', 1e-4, 1e-1), \n",
        "              'optimizer': \"Adam\",\n",
        "              'n_unit_1': trial.suggest_int(\"n_unit_1\", 4, 21), #number of units in the first hidden layer : ranges(4, 18)\n",
        "              'n_unit_2': trial.suggest_int(\"n_unit_2\", 4, 21) #number of units in the second hidden layer : ranges(4, 18),\n",
        "              }\n",
        "    \n",
        "    model = build_model(params)\n",
        "    \n",
        "    accuracy = train_and_evaluate(params)\n",
        "\n",
        "    return accuracy"
      ],
      "metadata": {
        "id": "lFM0ecOuApEf"
      },
      "execution_count": null,
      "outputs": []
    },
    {
      "cell_type": "markdown",
      "source": [
        "**Start the session**"
      ],
      "metadata": {
        "id": "J45tzNyFzQOK"
      }
    },
    {
      "cell_type": "code",
      "source": [
        "study.optimize(objective, n_trials=10)"
      ],
      "metadata": {
        "id": "E_k9h_KxAxuP"
      },
      "execution_count": null,
      "outputs": []
    },
    {
      "cell_type": "markdown",
      "source": [
        "**Show Best Trial**"
      ],
      "metadata": {
        "id": "m-XF2oRdMafC"
      }
    },
    {
      "cell_type": "code",
      "source": [
        "print(\"Accuracy for best trial : \", study.best_trial.value, \"best no. of units for 1st layer = \" , study.best_trial.params['n_unit_1'] , \" for 2nd layer = \" , study.best_trial.params['n_unit_2'], \" learning rate = \", study.best_trial.params['learning_rate'])"
      ],
      "metadata": {
        "colab": {
          "base_uri": "https://localhost:8080/"
        },
        "id": "z8aSLGBpMdWz",
        "outputId": "0a06fc33-0b8c-4340-8ae9-f3fa25e01db4"
      },
      "execution_count": null,
      "outputs": [
        {
          "output_type": "stream",
          "name": "stdout",
          "text": [
            "Accuracy for best trial :  0.8371596369460759 best no. of units for 1st layer =  12  for 2nd layer =  10  learning rate =  0.08091890898502657\n"
          ]
        }
      ]
    },
    {
      "cell_type": "markdown",
      "source": [
        "**Store the model**"
      ],
      "metadata": {
        "id": "T8VuXMVEgdZ0"
      }
    },
    {
      "cell_type": "code",
      "source": [
        "MODEL_PATH = 'model.pth'\n",
        "torch.save(model, MODEL_PATH)"
      ],
      "metadata": {
        "id": "t_Ydn7cPgiJO"
      },
      "execution_count": null,
      "outputs": []
    }
  ]
}